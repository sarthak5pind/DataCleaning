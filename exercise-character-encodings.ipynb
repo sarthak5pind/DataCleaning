{
 "cells": [
  {
   "cell_type": "markdown",
   "id": "94ed982a",
   "metadata": {
    "papermill": {
     "duration": 0.006346,
     "end_time": "2022-08-28T07:11:21.414658",
     "exception": false,
     "start_time": "2022-08-28T07:11:21.408312",
     "status": "completed"
    },
    "tags": []
   },
   "source": [
    "**This notebook is an exercise in the [Data Cleaning](https://www.kaggle.com/learn/data-cleaning) course.  You can reference the tutorial at [this link](https://www.kaggle.com/alexisbcook/character-encodings).**\n",
    "\n",
    "---\n"
   ]
  },
  {
   "cell_type": "markdown",
   "id": "2f6e5d95",
   "metadata": {
    "papermill": {
     "duration": 0.004553,
     "end_time": "2022-08-28T07:11:21.424533",
     "exception": false,
     "start_time": "2022-08-28T07:11:21.419980",
     "status": "completed"
    },
    "tags": []
   },
   "source": [
    "In this exercise, you'll apply what you learned in the **Character encodings** tutorial.\n",
    "\n",
    "# Setup\n",
    "\n",
    "The questions below will give you feedback on your work. Run the following cell to set up the feedback system."
   ]
  },
  {
   "cell_type": "code",
   "execution_count": 1,
   "id": "1a592026",
   "metadata": {
    "execution": {
     "iopub.execute_input": "2022-08-28T07:11:21.436668Z",
     "iopub.status.busy": "2022-08-28T07:11:21.436190Z",
     "iopub.status.idle": "2022-08-28T07:11:21.532154Z",
     "shell.execute_reply": "2022-08-28T07:11:21.530549Z"
    },
    "papermill": {
     "duration": 0.105552,
     "end_time": "2022-08-28T07:11:21.535200",
     "exception": false,
     "start_time": "2022-08-28T07:11:21.429648",
     "status": "completed"
    },
    "tags": []
   },
   "outputs": [
    {
     "name": "stdout",
     "output_type": "stream",
     "text": [
      "Setup Complete\n"
     ]
    }
   ],
   "source": [
    "from learntools.core import binder\n",
    "binder.bind(globals())\n",
    "from learntools.data_cleaning.ex4 import *\n",
    "print(\"Setup Complete\")"
   ]
  },
  {
   "cell_type": "markdown",
   "id": "13bfddab",
   "metadata": {
    "papermill": {
     "duration": 0.004631,
     "end_time": "2022-08-28T07:11:21.544901",
     "exception": false,
     "start_time": "2022-08-28T07:11:21.540270",
     "status": "completed"
    },
    "tags": []
   },
   "source": [
    "# Get our environment set up\n",
    "\n",
    "The first thing we'll need to do is load in the libraries we'll be using."
   ]
  },
  {
   "cell_type": "code",
   "execution_count": 2,
   "id": "72b594ee",
   "metadata": {
    "execution": {
     "iopub.execute_input": "2022-08-28T07:11:21.557108Z",
     "iopub.status.busy": "2022-08-28T07:11:21.556135Z",
     "iopub.status.idle": "2022-08-28T07:11:21.561718Z",
     "shell.execute_reply": "2022-08-28T07:11:21.560613Z"
    },
    "papermill": {
     "duration": 0.014239,
     "end_time": "2022-08-28T07:11:21.564121",
     "exception": false,
     "start_time": "2022-08-28T07:11:21.549882",
     "status": "completed"
    },
    "tags": []
   },
   "outputs": [],
   "source": [
    "# modules we'll use\n",
    "import pandas as pd\n",
    "import numpy as np\n",
    "\n",
    "# helpful character encoding module\n",
    "import chardet\n",
    "\n",
    "# set seed for reproducibility\n",
    "np.random.seed(0)"
   ]
  },
  {
   "cell_type": "markdown",
   "id": "1edbc70b",
   "metadata": {
    "papermill": {
     "duration": 0.004725,
     "end_time": "2022-08-28T07:11:21.573832",
     "exception": false,
     "start_time": "2022-08-28T07:11:21.569107",
     "status": "completed"
    },
    "tags": []
   },
   "source": [
    "# 1) What are encodings?\n",
    "\n",
    "You're working with a dataset composed of bytes.  Run the code cell below to print a sample entry."
   ]
  },
  {
   "cell_type": "code",
   "execution_count": 3,
   "id": "e4205d47",
   "metadata": {
    "execution": {
     "iopub.execute_input": "2022-08-28T07:11:21.586438Z",
     "iopub.status.busy": "2022-08-28T07:11:21.585578Z",
     "iopub.status.idle": "2022-08-28T07:11:21.592061Z",
     "shell.execute_reply": "2022-08-28T07:11:21.591117Z"
    },
    "papermill": {
     "duration": 0.015736,
     "end_time": "2022-08-28T07:11:21.594707",
     "exception": false,
     "start_time": "2022-08-28T07:11:21.578971",
     "status": "completed"
    },
    "tags": []
   },
   "outputs": [
    {
     "name": "stdout",
     "output_type": "stream",
     "text": [
      "b'\\xa7A\\xa6n'\n",
      "data type: <class 'bytes'>\n"
     ]
    }
   ],
   "source": [
    "sample_entry = b'\\xa7A\\xa6n'\n",
    "print(sample_entry)\n",
    "print('data type:', type(sample_entry))"
   ]
  },
  {
   "cell_type": "markdown",
   "id": "241a8e22",
   "metadata": {
    "papermill": {
     "duration": 0.004837,
     "end_time": "2022-08-28T07:11:21.604752",
     "exception": false,
     "start_time": "2022-08-28T07:11:21.599915",
     "status": "completed"
    },
    "tags": []
   },
   "source": [
    "You notice that it doesn't use the standard UTF-8 encoding. \n",
    "\n",
    "Use the next code cell to create a variable `new_entry` that changes the encoding from `\"big5-tw\"` to `\"utf-8\"`.  `new_entry` should have the bytes datatype."
   ]
  },
  {
   "cell_type": "code",
   "execution_count": 4,
   "id": "b5b98132",
   "metadata": {
    "execution": {
     "iopub.execute_input": "2022-08-28T07:11:21.617156Z",
     "iopub.status.busy": "2022-08-28T07:11:21.616743Z",
     "iopub.status.idle": "2022-08-28T07:11:21.627812Z",
     "shell.execute_reply": "2022-08-28T07:11:21.626480Z"
    },
    "papermill": {
     "duration": 0.020488,
     "end_time": "2022-08-28T07:11:21.630403",
     "exception": false,
     "start_time": "2022-08-28T07:11:21.609915",
     "status": "completed"
    },
    "tags": []
   },
   "outputs": [
    {
     "data": {
      "application/javascript": [
       "parent.postMessage({\"jupyterEvent\": \"custom.exercise_interaction\", \"data\": {\"outcomeType\": 1, \"valueTowardsCompletion\": 0.3333333333333333, \"interactionType\": 1, \"questionType\": 1, \"questionId\": \"1_EncodingsIntro\", \"learnToolsVersion\": \"0.3.4\", \"failureMessage\": \"\", \"exceptionClass\": \"\", \"trace\": \"\"}}, \"*\")"
      ],
      "text/plain": [
       "<IPython.core.display.Javascript object>"
      ]
     },
     "metadata": {},
     "output_type": "display_data"
    },
    {
     "data": {
      "text/markdown": [
       "<span style=\"color:#33cc33\">Correct</span>"
      ],
      "text/plain": [
       "Correct"
      ]
     },
     "metadata": {},
     "output_type": "display_data"
    }
   ],
   "source": [
    "before = sample_entry.decode(\"big5-tw\")\n",
    "new_entry = before.encode()\n",
    "\n",
    "# Check your answer\n",
    "q1.check()"
   ]
  },
  {
   "cell_type": "code",
   "execution_count": 5,
   "id": "a6d8cc57",
   "metadata": {
    "execution": {
     "iopub.execute_input": "2022-08-28T07:11:21.643283Z",
     "iopub.status.busy": "2022-08-28T07:11:21.642833Z",
     "iopub.status.idle": "2022-08-28T07:11:21.647586Z",
     "shell.execute_reply": "2022-08-28T07:11:21.646427Z"
    },
    "papermill": {
     "duration": 0.014124,
     "end_time": "2022-08-28T07:11:21.650000",
     "exception": false,
     "start_time": "2022-08-28T07:11:21.635876",
     "status": "completed"
    },
    "tags": []
   },
   "outputs": [],
   "source": [
    "# Lines below will give you a hint or solution code\n",
    "#q1.hint()\n",
    "#q1.solution()"
   ]
  },
  {
   "cell_type": "markdown",
   "id": "22c9e6d3",
   "metadata": {
    "papermill": {
     "duration": 0.005035,
     "end_time": "2022-08-28T07:11:21.660548",
     "exception": false,
     "start_time": "2022-08-28T07:11:21.655513",
     "status": "completed"
    },
    "tags": []
   },
   "source": [
    "# 2) Reading in files with encoding problems\n",
    "\n",
    "Use the code cell below to read in this file at path `\"../input/fatal-police-shootings-in-the-us/PoliceKillingsUS.csv\"`.  \n",
    "\n",
    "Figure out what the correct encoding should be and read in the file to a DataFrame `police_killings`."
   ]
  },
  {
   "cell_type": "code",
   "execution_count": 6,
   "id": "45756c38",
   "metadata": {
    "execution": {
     "iopub.execute_input": "2022-08-28T07:11:21.673043Z",
     "iopub.status.busy": "2022-08-28T07:11:21.672559Z",
     "iopub.status.idle": "2022-08-28T07:11:21.699225Z",
     "shell.execute_reply": "2022-08-28T07:11:21.698244Z"
    },
    "papermill": {
     "duration": 0.035683,
     "end_time": "2022-08-28T07:11:21.701526",
     "exception": false,
     "start_time": "2022-08-28T07:11:21.665843",
     "status": "completed"
    },
    "tags": []
   },
   "outputs": [
    {
     "data": {
      "application/javascript": [
       "parent.postMessage({\"jupyterEvent\": \"custom.exercise_interaction\", \"data\": {\"outcomeType\": 1, \"valueTowardsCompletion\": 0.3333333333333333, \"interactionType\": 1, \"questionType\": 1, \"questionId\": \"2_ReadIn\", \"learnToolsVersion\": \"0.3.4\", \"failureMessage\": \"\", \"exceptionClass\": \"\", \"trace\": \"\"}}, \"*\")"
      ],
      "text/plain": [
       "<IPython.core.display.Javascript object>"
      ]
     },
     "metadata": {},
     "output_type": "display_data"
    },
    {
     "data": {
      "text/markdown": [
       "<span style=\"color:#33cc33\">Correct</span>"
      ],
      "text/plain": [
       "Correct"
      ]
     },
     "metadata": {},
     "output_type": "display_data"
    }
   ],
   "source": [
    "# TODO: Load in the DataFrame correctly.\n",
    "police_killings = pd.read_csv(\"../input/fatal-police-shootings-in-the-us/PoliceKillingsUS.csv\", encoding='Windows-1252')\n",
    "# Check your answer\n",
    "q2.check()"
   ]
  },
  {
   "cell_type": "markdown",
   "id": "49906d14",
   "metadata": {
    "papermill": {
     "duration": 0.005282,
     "end_time": "2022-08-28T07:11:21.712444",
     "exception": false,
     "start_time": "2022-08-28T07:11:21.707162",
     "status": "completed"
    },
    "tags": []
   },
   "source": [
    "Feel free to use any additional code cells for supplemental work.  To get credit for finishing this question, you'll need to run `q2.check()` and get a result of **Correct**."
   ]
  },
  {
   "cell_type": "code",
   "execution_count": 7,
   "id": "c24bc3ed",
   "metadata": {
    "execution": {
     "iopub.execute_input": "2022-08-28T07:11:21.725433Z",
     "iopub.status.busy": "2022-08-28T07:11:21.724977Z",
     "iopub.status.idle": "2022-08-28T07:11:21.730531Z",
     "shell.execute_reply": "2022-08-28T07:11:21.729291Z"
    },
    "papermill": {
     "duration": 0.015008,
     "end_time": "2022-08-28T07:11:21.733084",
     "exception": false,
     "start_time": "2022-08-28T07:11:21.718076",
     "status": "completed"
    },
    "tags": []
   },
   "outputs": [],
   "source": [
    "# (Optional) Use this code cell for any additional work."
   ]
  },
  {
   "cell_type": "code",
   "execution_count": 8,
   "id": "bebf54de",
   "metadata": {
    "execution": {
     "iopub.execute_input": "2022-08-28T07:11:21.746205Z",
     "iopub.status.busy": "2022-08-28T07:11:21.745770Z",
     "iopub.status.idle": "2022-08-28T07:11:21.750970Z",
     "shell.execute_reply": "2022-08-28T07:11:21.749679Z"
    },
    "papermill": {
     "duration": 0.014443,
     "end_time": "2022-08-28T07:11:21.753269",
     "exception": false,
     "start_time": "2022-08-28T07:11:21.738826",
     "status": "completed"
    },
    "tags": []
   },
   "outputs": [],
   "source": [
    "# Lines below will give you a hint or solution code\n",
    "#q2.hint()\n",
    "#q2.solution()"
   ]
  },
  {
   "cell_type": "markdown",
   "id": "6d13e019",
   "metadata": {
    "papermill": {
     "duration": 0.00528,
     "end_time": "2022-08-28T07:11:21.764118",
     "exception": false,
     "start_time": "2022-08-28T07:11:21.758838",
     "status": "completed"
    },
    "tags": []
   },
   "source": [
    "# 3) Saving your files with UTF-8 encoding\n",
    "\n",
    "Save a version of the police killings dataset to CSV with UTF-8 encoding.  Your answer will be marked correct after saving this file.  \n",
    "\n",
    "Note: When using the `to_csv()` method, supply only the name of the file (e.g., `\"my_file.csv\"`).  This saves the file at the filepath `\"/kaggle/working/my_file.csv\"`."
   ]
  },
  {
   "cell_type": "code",
   "execution_count": 9,
   "id": "9c0168c4",
   "metadata": {
    "execution": {
     "iopub.execute_input": "2022-08-28T07:11:21.776957Z",
     "iopub.status.busy": "2022-08-28T07:11:21.776471Z",
     "iopub.status.idle": "2022-08-28T07:11:21.814460Z",
     "shell.execute_reply": "2022-08-28T07:11:21.813078Z"
    },
    "papermill": {
     "duration": 0.047239,
     "end_time": "2022-08-28T07:11:21.816956",
     "exception": false,
     "start_time": "2022-08-28T07:11:21.769717",
     "status": "completed"
    },
    "tags": []
   },
   "outputs": [
    {
     "data": {
      "application/javascript": [
       "parent.postMessage({\"jupyterEvent\": \"custom.exercise_interaction\", \"data\": {\"outcomeType\": 1, \"valueTowardsCompletion\": 0.3333333333333333, \"interactionType\": 1, \"questionType\": 2, \"questionId\": \"3_SaveCSV\", \"learnToolsVersion\": \"0.3.4\", \"failureMessage\": \"\", \"exceptionClass\": \"\", \"trace\": \"\"}}, \"*\")"
      ],
      "text/plain": [
       "<IPython.core.display.Javascript object>"
      ]
     },
     "metadata": {},
     "output_type": "display_data"
    },
    {
     "data": {
      "text/markdown": [
       "<span style=\"color:#33cc33\">Correct</span>"
      ],
      "text/plain": [
       "Correct"
      ]
     },
     "metadata": {},
     "output_type": "display_data"
    }
   ],
   "source": [
    "# TODO: Save the police killings dataset to CSV\n",
    "police_killings.to_csv(\"my_file.csv\")\n",
    "# Check your answer\n",
    "q3.check()"
   ]
  },
  {
   "cell_type": "code",
   "execution_count": 10,
   "id": "95956ea7",
   "metadata": {
    "execution": {
     "iopub.execute_input": "2022-08-28T07:11:21.830530Z",
     "iopub.status.busy": "2022-08-28T07:11:21.830085Z",
     "iopub.status.idle": "2022-08-28T07:11:21.834544Z",
     "shell.execute_reply": "2022-08-28T07:11:21.833642Z"
    },
    "papermill": {
     "duration": 0.013999,
     "end_time": "2022-08-28T07:11:21.836836",
     "exception": false,
     "start_time": "2022-08-28T07:11:21.822837",
     "status": "completed"
    },
    "tags": []
   },
   "outputs": [],
   "source": [
    "# Lines below will give you a hint or solution code\n",
    "#q3.hint()\n",
    "#q3.solution()"
   ]
  },
  {
   "cell_type": "markdown",
   "id": "58075ed7",
   "metadata": {
    "papermill": {
     "duration": 0.006645,
     "end_time": "2022-08-28T07:11:21.849423",
     "exception": false,
     "start_time": "2022-08-28T07:11:21.842778",
     "status": "completed"
    },
    "tags": []
   },
   "source": [
    "# (Optional) More practice\n",
    "\n",
    "Check out [this dataset of files in different character encodings](https://www.kaggle.com/rtatman/character-encoding-examples). Can you read in all the files with their original encodings and them save them out as UTF-8 files?\n",
    "\n",
    "If you have a file that's in UTF-8 but has just a couple of weird-looking characters in it, you can try out the [ftfy module](https://ftfy.readthedocs.io/en/latest/#) and see if it helps. \n",
    "\n",
    "# Keep going\n",
    "\n",
    "In the final lesson, learn how to [**clean up inconsistent text entries**](https://www.kaggle.com/alexisbcook/inconsistent-data-entry) in your dataset."
   ]
  },
  {
   "cell_type": "markdown",
   "id": "63d4999c",
   "metadata": {
    "papermill": {
     "duration": 0.005321,
     "end_time": "2022-08-28T07:11:21.860525",
     "exception": false,
     "start_time": "2022-08-28T07:11:21.855204",
     "status": "completed"
    },
    "tags": []
   },
   "source": [
    "---\n",
    "\n",
    "\n",
    "\n",
    "\n",
    "*Have questions or comments? Visit the [course discussion forum](https://www.kaggle.com/learn/data-cleaning/discussion) to chat with other learners.*"
   ]
  }
 ],
 "metadata": {
  "kernelspec": {
   "display_name": "Python 3",
   "language": "python",
   "name": "python3"
  },
  "language_info": {
   "codemirror_mode": {
    "name": "ipython",
    "version": 3
   },
   "file_extension": ".py",
   "mimetype": "text/x-python",
   "name": "python",
   "nbconvert_exporter": "python",
   "pygments_lexer": "ipython3",
   "version": "3.7.12"
  },
  "papermill": {
   "default_parameters": {},
   "duration": 11.032459,
   "end_time": "2022-08-28T07:11:22.590437",
   "environment_variables": {},
   "exception": null,
   "input_path": "__notebook__.ipynb",
   "output_path": "__notebook__.ipynb",
   "parameters": {},
   "start_time": "2022-08-28T07:11:11.557978",
   "version": "2.3.4"
  }
 },
 "nbformat": 4,
 "nbformat_minor": 5
}
